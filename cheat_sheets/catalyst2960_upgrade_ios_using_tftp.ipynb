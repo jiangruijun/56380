{
 "cells": [
  {
   "cell_type": "markdown",
   "metadata": {},
   "source": [
    "# 1,  \n",
    "  \n",
    "/*  \n",
    "  \n",
    "Prepare a freeware TFTP server in the computer.  \n",
    "Configure TFTP server root directory to the folder that saves the IOS image. (e.g. D:\\IOS)  \n",
    "Set IP address of the computer/TFTP server. (e.g. 192.168.1.1)  \n",
    "Connect the computer to the switch.  \n",
    "  \n",
    "*/  \n",
    "  \n",
    "# 2,  \n",
    "Would you like to enter the initial configuration dialog? [yes/no]: n  \n",
    "Switch>en  \n",
    "Switch#show ver  \n",
    "Switch#dir flash:  \n",
    "Switch#conf t  \n",
    "Switch(config)#vlan 1  \n",
    "Switch(config-vlan)#exit  \n",
    "Switch(config)#int vlan 1  \n",
    "Switch(config-if)#ip add 192.168.1.2 255.255.255.0  \n",
    "Switch(config-if)#no sh  \n",
    "Switch(config-if)#exit  \n",
    "Switch(config)#int g1/0/1  \n",
    "Switch(config-if)#sw mode acc  \n",
    "Switch(config-if)#sw acc vlan 1  \n",
    "Switch(config-if)#exit  \n",
    "Switch(config)#do show ip inter b  \n",
    "Switch(config)#do ping 192.168.1.2  \n",
    "Switch(config)#do ping 192.168.1.1  \n",
    "Switch(config)#exit  \n",
    "# 3,  \n",
    "Switch#copy tftp: flash:  \n",
    "Address or name of remote host []? 192.168.1.1  \n",
    "Source filename []? c2960s-universalk9-mz.150-2.SE.bin  \n",
    "Destination filename [c2960s-universalk9-mz.150-2.SE.bin]?  \n",
    "Switch#dir flash:  \n",
    "# 4,  \n",
    "Switch#show boot  \n",
    "Switch#conf t  \n",
    "Switch(config)#boot system flash:c2960s-universalk9-mz.150-2.SE.bin  \n",
    "Switch(config)#do wr  \n",
    "Switch(config)#do reload  \n",
    "Switch>en  \n",
    "Switch#show ver  "
   ]
  }
 ],
 "metadata": {
  "kernelspec": {
   "display_name": "Python 3",
   "language": "python",
   "name": "python3"
  },
  "language_info": {
   "codemirror_mode": {
    "name": "ipython",
    "version": 3
   },
   "file_extension": ".py",
   "mimetype": "text/x-python",
   "name": "python",
   "nbconvert_exporter": "python",
   "pygments_lexer": "ipython3",
   "version": "3.6.2"
  }
 },
 "nbformat": 4,
 "nbformat_minor": 2
}
