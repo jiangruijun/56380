{
 "cells": [
  {
   "cell_type": "markdown",
   "metadata": {},
   "source": [
    "# 1,  \n",
    "  \n",
    "//Insert a USB stick that is recognised by the switch, and with new IOS in it.  \n",
    "  \n",
    "# 2,  \n",
    "Would you like to enter the initial configuration dialog? [yes/no]: n  \n",
    "Would you like to terminate autoinstall? [yes]: y  \n",
    "Switch>en  \n",
    "Switch#show ver  \n",
    "Switch#dir flash:  \n",
    "Switch#dir usbflash0:  \n",
    "Switch#copy usbflash0:cat3k_caa-universalk9.SPA.03.07.05.E.152-3.E5.bin flash:  \n",
    "Destination filename [cat3k_caa-universalk9.SPA.03.07.05.E.152-3.E5.bin]?  \n",
    "Switch#dir flash:  \n",
    "# 3,  \n",
    "Switch#show ver  \n",
    "Switch#show sw  \n",
    "Switch#software install file flash:cat3k_caa-universalk9.SPA.03.07.05.E.152-3.E5.bin switch 1  \n",
    "[1]: Do you want to proceed with reload? [yes/no]: y  \n",
    "System configuration has been modified. Save? [yes/no]: y  \n",
    "# 4,  \n",
    "Switch>en  \n",
    "Switch#sh ver | i INSTALL  "
   ]
  }
 ],
 "metadata": {
  "kernelspec": {
   "display_name": "Python 3",
   "language": "python",
   "name": "python3"
  },
  "language_info": {
   "codemirror_mode": {
    "name": "ipython",
    "version": 3
   },
   "file_extension": ".py",
   "mimetype": "text/x-python",
   "name": "python",
   "nbconvert_exporter": "python",
   "pygments_lexer": "ipython3",
   "version": "3.6.2"
  }
 },
 "nbformat": 4,
 "nbformat_minor": 2
}
