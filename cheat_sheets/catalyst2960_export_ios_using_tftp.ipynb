{
 "cells": [
  {
   "cell_type": "markdown",
   "metadata": {},
   "source": [
    "# 1,  \n",
    "  \n",
    "/*  \n",
    "  \n",
    "Prepare a freeware TFTP server in the computer.  \n",
    "Configure TFTP server root directory for putting the IOS image. (e.g. D:\\IOS)  \n",
    "Set IP address of the computer/TFTP server. (e.g. 192.168.1.1)  \n",
    "Connect the computer to the switch.  \n",
    "  \n",
    "*/  \n",
    "  \n",
    "# 2,  \n",
    "Username: ruijun  \n",
    "Password:       \n",
    "2960>en  \n",
    "Password:       \n",
    "2960#conf t  \n",
    "2960(config)#do show ver  \n",
    "2960(config)#do dir flash:  \n",
    "2960(config)#do show run int g1/0/1  \n",
    "2960(config)#do show vlan b  \n",
    "2960(config)#do show ip inter b  \n",
    "2960(config)#default int g1/0/1  \n",
    "2960(config)#do show run int g1/0/1  \n",
    "2960(config)#vlan 2  \n",
    "2960(config-vlan)#exit  \n",
    "2960(config)#int vlan 2  \n",
    "2960(config-if)#ip add 192.168.1.2 255.255.255.0  \n",
    "2960(config-if)#no sh  \n",
    "2960(config-if)#exit  \n",
    "2960(config)#int g1/0/1  \n",
    "2960(config-if)#sw mode acc  \n",
    "2960(config-if)#sw acc vlan 2  \n",
    "2960(config-if)#exit  \n",
    "2960(config)#do show run int g1/0/1  \n",
    "2960(config)#do show ip inter b  \n",
    "2960(config)#do ping 192.168.1.2  \n",
    "2960(config)#do ping 192.168.1.1  \n",
    "2960(config)#exit  \n",
    "2960#copy flash:c2960s-universalk9-mz.150-2.SE.bin tftp:  \n",
    "Address or name of remote host []? 192.168.1.1  \n",
    "Destination filename [c2960s-universalk9-mz.150-2.SE.bin]?  \n",
    "# 3,  \n",
    "  \n",
    "//Restore the latest formal configuration of the switch.  \n",
    "  "
   ]
  }
 ],
 "metadata": {
  "kernelspec": {
   "display_name": "Python 3",
   "language": "python",
   "name": "python3"
  },
  "language_info": {
   "codemirror_mode": {
    "name": "ipython",
    "version": 3
   },
   "file_extension": ".py",
   "mimetype": "text/x-python",
   "name": "python",
   "nbconvert_exporter": "python",
   "pygments_lexer": "ipython3",
   "version": "3.6.2"
  }
 },
 "nbformat": 4,
 "nbformat_minor": 2
}
