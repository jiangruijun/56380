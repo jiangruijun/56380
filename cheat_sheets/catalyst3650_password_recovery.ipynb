{
 "cells": [
  {
   "cell_type": "markdown",
   "metadata": {},
   "source": [
    "# 1,  \n",
    "  \n",
    "/*  \n",
    "  \n",
    "Press and hold the \"Mode\" button.  \n",
    "Power on the switch, wait long enough, and release the button.  \n",
    "  \n",
    "*/  \n",
    "  \n",
    "# 2,  \n",
    "switch: flash_init  \n",
    "switch: SWITCH_IGNORE_STARTUP_CFG=1  \n",
    "switch: dir flash:  \n",
    "switch: boot flash:packages.conf  \n",
    "# 3,  \n",
    "% Please answer 'yes' or 'no'.  \n",
    "Would you like to enter the initial configuration dialog? [yes/no]: n  \n",
    "# 4,  \n",
    "Switch>ena  \n",
    "Switch#show startup-config  \n",
    "Switch#show run  \n",
    "Switch#copy start run  \n",
    "Destination filename [running-config]?  \n",
    "# 5,  \n",
    "3650#conf t  \n",
    "3650(config)#do wr  \n",
    "3650(config)#do show run  \n",
    "3650(config)#enable secret CCIErocks?  \n",
    "  \n",
    "//To input character \"?\". First must press \"Ctrl\" and \"V\" at the same time, then type \"?\".  \n",
    "  \n",
    "3650(config)#username ruijun secret ccie  \n",
    "3650(config)#do wr  \n",
    "3650(config)#do show boot  \n",
    "3650(config)#do reload  \n",
    "# 6,  \n",
    "  \n",
    "/*  \n",
    "  \n",
    "Press and hold the \"Mode\" button.  \n",
    "Begin rebooting the switch, wait long enough, and release the button.  \n",
    "  \n",
    "*/  \n",
    "  \n",
    "# 7,  \n",
    "switch: SWITCH_IGNORE_STARTUP_CFG=0  \n",
    "switch: dir flash:  \n",
    "switch: boot flash:packages.conf  \n",
    "# 8,  \n",
    "3650(config)#do show boot  \n",
    "3650(config)#no boot manual  \n",
	"3650(config)#do wr  "
   ]
  }
 ],
 "metadata": {
  "kernelspec": {
   "display_name": "Python 3",
   "language": "python",
   "name": "python3"
  },
  "language_info": {
   "codemirror_mode": {
    "name": "ipython",
    "version": 3
   },
   "file_extension": ".py",
   "mimetype": "text/x-python",
   "name": "python",
   "nbconvert_exporter": "python",
   "pygments_lexer": "ipython3",
   "version": "3.6.2"
  }
 },
 "nbformat": 4,
 "nbformat_minor": 2
}
