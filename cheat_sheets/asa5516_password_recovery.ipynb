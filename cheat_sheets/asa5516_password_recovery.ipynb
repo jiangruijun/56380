{
 "cells": [
  {
   "cell_type": "markdown",
   "metadata": {},
   "source": [
    "# 1,  \n",
    "  \n",
    "//Turn the device off and on again. Keep pushing \"Esc\" during reboot.  \n",
    "  \n",
    "# 2,  \n",
    "rommon 1 > confreg 0x41  \n",
    "rommon 2 > reboot  \n",
    "# 3,  \n",
    "ciscoasa> enable  \n",
    "Password:   \n",
    "  \n",
    "//Default password here is empty.  \n",
    "  \n",
    "ciscoasa# conf t  \n",
    "ciscoasa(config)# enable password cisco  \n",
    "ciscoasa(config)# username ruijun password ccie encrypted privilege 15  \n",
    "ciscoasa(config)# config-register 0x01  \n",
    "ciscoasa(config)# exit  \n",
    "ciscoasa# copy running-config startup-config  \n",
    "Source filename [running-config]?   \n",
    "ciscoasa# reload  \n",
    "Proceed with reload? [confirm]  "
   ]
  }
 ],
 "metadata": {
  "kernelspec": {
   "display_name": "Python 3",
   "language": "python",
   "name": "python3"
  },
  "language_info": {
   "codemirror_mode": {
    "name": "ipython",
    "version": 3
   },
   "file_extension": ".py",
   "mimetype": "text/x-python",
   "name": "python",
   "nbconvert_exporter": "python",
   "pygments_lexer": "ipython3",
   "version": "3.6.2"
  }
 },
 "nbformat": 4,
 "nbformat_minor": 2
}
