{
 "cells": [
  {
   "cell_type": "markdown",
   "metadata": {},
   "source": [
    "# 1,  \n",
    "AP6cb2.ae86.c088>en  \n",
    "Password:        \n",
    "  \n",
    "//Default password is \"Cisco\".  \n",
    "  \n",
    "AP6cb2.ae86.c088#show ver  \n",
    "AP6cb2.ae86.c088#dir flash:  \n",
    "# 2,  \n",
    "  \n",
    "/*  \n",
    "  \n",
    "Prepare a freeware TFTP server in the computer.  \n",
    "Configure TFTP server root directory to the place, where the AP autonomous IOS image is saved. (e.g. D:\\IOS)  \n",
    "Rename the AP autonomous IOS image from \"ap3g2-k9w7-tar.153-3.JF1.tar\" to \"ap3g2-k9w7-tar.default\".  \n",
    "Set IP address 10.0.0.2 to the computer/TFTP server. Because when Cisco AP resets to the factory default, it will always take the IP address 10.0.0.1 .  \n",
    "Connect the computer to the switch and make sure it stays in the same subnet/VLAN with the AP.  \n",
    "Unplug and plug again the AP to the PoE switch, and keep pressing AP's \"Mode\" button during its reboot.  \n",
    "  \n",
    "*/  \n",
    "  \n",
    "# 3,  \n",
    "ap>en  \n",
    "Password:        \n",
    "ap#conf t  \n",
    "ap(config)#do show ver  "
   ]
  }
 ],
 "metadata": {
  "kernelspec": {
   "display_name": "Python 3",
   "language": "python",
   "name": "python3"
  },
  "language_info": {
   "codemirror_mode": {
    "name": "ipython",
    "version": 3
   },
   "file_extension": ".py",
   "mimetype": "text/x-python",
   "name": "python",
   "nbconvert_exporter": "python",
   "pygments_lexer": "ipython3",
   "version": "3.6.2"
  }
 },
 "nbformat": 4,
 "nbformat_minor": 2
}
