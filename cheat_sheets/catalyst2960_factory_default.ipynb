{
 "cells": [
  {
   "cell_type": "markdown",
   "metadata": {},
   "source": [
    "# 1,  \n",
    "2960#erase startup-config  \n",
    "Erasing the nvram filesystem will remove all configuration files! Continue? [confirm]  \n",
    "# 2,  \n",
    "2960#del vlan.dat  \n",
    "Delete filename [vlan.dat]?  \n",
    "Delete flash:/vlan.dat? [confirm]  \n",
    "# 3,  \n",
    "2960#reload  \n",
    "System configuration has been modified. Save? [yes/no]: n  \n",
    "Proceed with reload? [confirm]  "
   ]
  }
 ],
 "metadata": {
  "kernelspec": {
   "display_name": "Python 3",
   "language": "python",
   "name": "python3"
  },
  "language_info": {
   "codemirror_mode": {
    "name": "ipython",
    "version": 3
   },
   "file_extension": ".py",
   "mimetype": "text/x-python",
   "name": "python",
   "nbconvert_exporter": "python",
   "pygments_lexer": "ipython3",
   "version": "3.6.2"
  }
 },
 "nbformat": 4,
 "nbformat_minor": 2
}
