{
 "cells": [
  {
   "cell_type": "markdown",
   "metadata": {},
   "source": [
    "# 1,  \n",
    "  \n",
    "/*  \n",
    "  \n",
    "Press and hold the \"Mode\" button.  \n",
    "Power on the switch, wait long enough, and release the button.  \n",
    "  \n",
    "*/  \n",
    "\n",
    "# 2,  \n",
    "switch: flash_init  \n",
    "switch: dir flash:  \n",
    "switch: rename flash:config.text flash:recovery.text  \n",
    "switch: dir flash:  \n",
    "switch: boot  \n",
    "# 3,  \n",
    "% Please answer 'yes' or 'no'.  \n",
    "Would you like to enter the initial configuration dialog? [yes/no]: n  \n",
    "# 4,  \n",
    "Switch>en  \n",
    "Switch#rename flash:recovery.text flash:config.text  \n",
    "Destination filename [config.text]?   \n",
    "Switch#copy flash:config.text system:running-config  \n",
    "Destination filename [running-config]?  \n",
    "# 5,  \n",
    "2960#conf t  \n",
    "2960(config)#username ruijun password ccie  \n",
    "2960(config)#do wr  "
   ]
  }
 ],
 "metadata": {
  "kernelspec": {
   "display_name": "Python 3",
   "language": "python",
   "name": "python3"
  },
  "language_info": {
   "codemirror_mode": {
    "name": "ipython",
    "version": 3
   },
   "file_extension": ".py",
   "mimetype": "text/x-python",
   "name": "python",
   "nbconvert_exporter": "python",
   "pygments_lexer": "ipython3",
   "version": "3.6.2"
  }
 },
 "nbformat": 4,
 "nbformat_minor": 2
}
