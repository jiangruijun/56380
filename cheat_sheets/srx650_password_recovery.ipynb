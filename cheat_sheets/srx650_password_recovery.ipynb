{
 "cells": [
  {
   "cell_type": "markdown",
   "metadata": {},
   "source": [
    "# 1,  \n",
    "  \n",
    "//Keep pressing \"Space\" from the beginning, during the boot process.  \n",
    "  \n",
    "Press SPACE to abort autoboot in 1 seconds  \n",
    "=>   \n",
    "=> boot  \n",
    "  \n",
    "//Still keep pressing \"Space\".  \n",
    "  \n",
    "Hit [Enter] to boot immediately, or space bar for command prompt.  \n",
    "  \n",
    "  \n",
    "Type '?' for a list of commands, 'help' for more detailed help.  \n",
    "loader>   \n",
    "loader>boot -s  \n",
    "# 2,  \n",
    "Enter full pathname of shell or 'recovery' for root password recovery or RETURN for /bin/sh: recovery  \n",
    "# 3,  \n",
    "root> configure  \n",
    "root# delete system root-authentication  \n",
    "root# set system root-authentication plain-text-password  \n",
    "New password:       \n",
    "Retype new password:       \n",
    "root# commit  \n",
    "root# exit  \n",
    "root> show configuration  \n",
    "root> request system reboot  \n",
    "Reboot the system ? [yes,no] (no) yes  \n",
    "# 4,  \n",
    "login: root  \n",
    "Password:       \n",
    "root@% cli  \n",
    "root>  "
   ]
  }
 ],
 "metadata": {
  "kernelspec": {
   "display_name": "Python 3",
   "language": "python",
   "name": "python3"
  },
  "language_info": {
   "codemirror_mode": {
    "name": "ipython",
    "version": 3
   },
   "file_extension": ".py",
   "mimetype": "text/x-python",
   "name": "python",
   "nbconvert_exporter": "python",
   "pygments_lexer": "ipython3",
   "version": "3.6.2"
  }
 },
 "nbformat": 4,
 "nbformat_minor": 2
}
